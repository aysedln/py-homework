{
 "cells": [
  {
   "cell_type": "code",
   "execution_count": 11,
   "id": "549c3c6b-81d8-4e3e-9357-a7e87c08d0d8",
   "metadata": {},
   "outputs": [
    {
     "name": "stdin",
     "output_type": "stream",
     "text": [
      "1.Sayıyı giriniz:  78\n",
      "2.Sayıyı giriniz:  32\n"
     ]
    },
    {
     "name": "stdout",
     "output_type": "stream",
     "text": [
      "Sayıların toplamı: 110\n",
      "Sayıların farkı: 46\n",
      "Sayıların çarpımı: 2496\n",
      "sayıların bölümü: 2.4375\n",
      "Sayıların tam bölümü: 2\n",
      "Sayıların modu: 14\n",
      "Üs alma işlemi: 3523930106911441207311751998440200699479408173742614711894016\n"
     ]
    }
   ],
   "source": [
    "#GÖREV1\n",
    "sayi1 = int(input(\"1.Sayıyı giriniz: \"))\n",
    "sayi2 = int(input(\"2.Sayıyı giriniz: \"))\n",
    "x = sayi1\n",
    "y = sayi2\n",
    "toplam = int(x) + int(y)\n",
    "print(\"Sayıların toplamı: \" + str(toplam))\n",
    "fark = int(x) - int(y)\n",
    "print(\"Sayıların farkı: \" + str(fark))\n",
    "carpim = int(x) * int(y)\n",
    "print(\"Sayıların çarpımı: \" + str(carpim))\n",
    "bolme = int(x) / int(y)\n",
    "print(\"sayıların bölümü: \" + str(bolme))\n",
    "tam_bolme = int(x) // int(y)\n",
    "print(\"Sayıların tam bölümü: \" + str(tam_bolme))\n",
    "mod_alma = int(x) % int(y)\n",
    "print(\"Sayıların modu: \" + str(mod_alma))\n",
    "us_alma = int(x) ** int(y)             \n",
    "print(\"Üs alma işlemi: \" + str(us_alma))\n",
    "\n"
   ]
  },
  {
   "cell_type": "code",
   "execution_count": 16,
   "id": "593c6ff8-b873-47cc-a784-11c0583a1552",
   "metadata": {},
   "outputs": [
    {
     "name": "stdin",
     "output_type": "stream",
     "text": [
      "Yarıçap giriniz:  6\n"
     ]
    },
    {
     "name": "stdout",
     "output_type": "stream",
     "text": [
      "Dairenin alanı: 113.04\n"
     ]
    }
   ],
   "source": [
    "#GÖREV2\n",
    "pi = 3.14\n",
    "r = float(input(\"Yarıçap giriniz: \" ))\n",
    "alan = pi * (r ** 2)\n",
    "print(\"Dairenin alanı: \" + str(alan))\n"
   ]
  },
  {
   "cell_type": "code",
   "execution_count": null,
   "id": "4e09a92f-3013-4f09-b19e-b3c19c3841bd",
   "metadata": {},
   "outputs": [],
   "source": []
  }
 ],
 "metadata": {
  "kernelspec": {
   "display_name": "Python 3 (ipykernel)",
   "language": "python",
   "name": "python3"
  },
  "language_info": {
   "codemirror_mode": {
    "name": "ipython",
    "version": 3
   },
   "file_extension": ".py",
   "mimetype": "text/x-python",
   "name": "python",
   "nbconvert_exporter": "python",
   "pygments_lexer": "ipython3",
   "version": "3.12.7"
  }
 },
 "nbformat": 4,
 "nbformat_minor": 5
}
