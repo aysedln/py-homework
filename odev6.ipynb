{
 "cells": [
  {
   "cell_type": "code",
   "execution_count": 1,
   "id": "329318f6-c19a-4505-9a9d-d1066bd7540a",
   "metadata": {},
   "outputs": [
    {
     "name": "stdout",
     "output_type": "stream",
     "text": [
      "True\n"
     ]
    }
   ],
   "source": [
    "a = 256\n",
    "b = 256\n",
    "print(a is b)\n",
    "\n",
    "#Neden? is operatörü,iki değişkenin bellekte aynı nesne olup olmadığını kontrol eder. is, değişkenlerin değerlerini değil, bellek adreslerini karşılaştırır.\n",
    "#eğer iki değişken aynı operatörü gösteriyorsa is operatörü True döner. farklı nesnelerse False döner. Python -5 ile 256 arasındaki sayıları ön belleğe alır\n",
    "#performansı attırmmak için. a is b True döner çünkü Python 256 değerini önbellekten alıyor ve hem a hem b aynı nesneyi gösteriyor. 256'dan büyük sayıları\n",
    "#kullanırsak false olabilir çünkü python büyük sayıları ön belleğe almaz. \n",
    "#-5 ile 256 arasındaki sayılar , kısa stringler, ve bazı immutable(değiştirilemez) nesneler ön belleğe alınır. Büyük sayılar,listeler,sözlükler ve değiştirilebilir\n",
    "#nesneler her zaman farklı nesne olarak oluşturulur. bu yüzden ön belleğe alınmazlar.\n",
    "\n",
    "\n",
    "\n"
   ]
  },
  {
   "cell_type": "code",
   "execution_count": 3,
   "id": "8d577ba0-e9c1-48c0-ade1-ef614e38d96f",
   "metadata": {},
   "outputs": [
    {
     "name": "stdout",
     "output_type": "stream",
     "text": [
      "False\n"
     ]
    }
   ],
   "source": [
    "c = 257\n",
    "d = 257\n",
    "print(c is d)\n",
    "\n",
    "#NEDEN? PYTHON ön belleğinde bulunmadıkları ve ikiside bellekte farklı nesne oldukları için False olur. "
   ]
  },
  {
   "cell_type": "code",
   "execution_count": null,
   "id": "769969ad-8b1d-48b5-9697-a4bc3f5fee5c",
   "metadata": {},
   "outputs": [],
   "source": []
  }
 ],
 "metadata": {
  "kernelspec": {
   "display_name": "Python 3 (ipykernel)",
   "language": "python",
   "name": "python3"
  },
  "language_info": {
   "codemirror_mode": {
    "name": "ipython",
    "version": 3
   },
   "file_extension": ".py",
   "mimetype": "text/x-python",
   "name": "python",
   "nbconvert_exporter": "python",
   "pygments_lexer": "ipython3",
   "version": "3.12.7"
  }
 },
 "nbformat": 4,
 "nbformat_minor": 5
}
