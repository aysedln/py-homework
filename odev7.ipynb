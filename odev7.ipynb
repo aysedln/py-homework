{
 "cells": [
  {
   "cell_type": "code",
   "execution_count": 40,
   "id": "3a5315f7-1b35-4982-bf8f-49e22b541e4d",
   "metadata": {},
   "outputs": [
    {
     "name": "stdin",
     "output_type": "stream",
     "text": [
      "Bir metin girin:  Yapay zeka ile kodlama eğitimi alıyorum.\n"
     ]
    },
    {
     "name": "stdout",
     "output_type": "stream",
     "text": [
      "['Yapay', 'zeka', 'ile', 'kodlama', 'eğitimi', 'alıyorum.']\n"
     ]
    }
   ],
   "source": [
    "metin = input(\"Bir metin girin: \")\n",
    "metin = metin.split()\n",
    "\n",
    "print(metin)\n",
    "#split: boşluklara göre böler.\n"
   ]
  },
  {
   "cell_type": "code",
   "execution_count": 44,
   "id": "15199794-11fb-44b8-a82f-c69976dabadc",
   "metadata": {},
   "outputs": [
    {
     "name": "stdin",
     "output_type": "stream",
     "text": [
      "Bir metin girin:      yapay zeka\n"
     ]
    },
    {
     "name": "stdout",
     "output_type": "stream",
     "text": [
      "yapay zeka\n"
     ]
    }
   ],
   "source": [
    "metin = input(\"Bir metin girin: \")\n",
    "metin = metin.strip()\n",
    "print(metin)\n"
   ]
  },
  {
   "cell_type": "code",
   "execution_count": 36,
   "id": "db041048-8db6-4f97-b8fa-59b5a42f5093",
   "metadata": {},
   "outputs": [
    {
     "name": "stdin",
     "output_type": "stream",
     "text": [
      "Bir metin girin:  Yapay zeka ile kodlama eğitimi alıyorum.\n"
     ]
    },
    {
     "name": "stdout",
     "output_type": "stream",
     "text": [
      "YAPAY ZEKA ILE KODLAMA EĞITIMI ALIYORUM.\n"
     ]
    }
   ],
   "source": [
    "metin = input(\"Bir metin girin: \")\n",
    "metin = metin.upper()\n",
    "print(metin)"
   ]
  },
  {
   "cell_type": "code",
   "execution_count": 35,
   "id": "44215c54-263a-42d0-8c9f-15e6b0307523",
   "metadata": {},
   "outputs": [
    {
     "name": "stdin",
     "output_type": "stream",
     "text": [
      "Bir metin girin:  Yapay zeka ile kodlama  eğitimi alıyorum.\n"
     ]
    },
    {
     "name": "stdout",
     "output_type": "stream",
     "text": [
      "Yepey zeke ile kodleme  eğitimi elıyorum.\n"
     ]
    }
   ],
   "source": [
    "metin = input(\"Bir metin girin: \")\n",
    "metin = metin.replace(\"a\" , \"e\")\n",
    "print(metin)"
   ]
  },
  {
   "cell_type": "code",
   "execution_count": 54,
   "id": "284f6750-c147-408b-bb85-a61491036dbc",
   "metadata": {},
   "outputs": [
    {
     "name": "stdout",
     "output_type": "stream",
     "text": [
      "ilid amalmargorp nohtyP\n"
     ]
    }
   ],
   "source": [
    "# görev2 metni ters çevirmek [::,-1]\n",
    "metin = \"Python programlama dili\"\n",
    "ters_metin = metin[::-1]\n",
    "print(ters_metin)"
   ]
  },
  {
   "cell_type": "code",
   "execution_count": 56,
   "id": "0662c654-2b6a-4e88-a3b7-27e1ab7e98da",
   "metadata": {},
   "outputs": [
    {
     "data": {
      "text/plain": [
       "'Python kodlama dili'"
      ]
     },
     "execution_count": 56,
     "metadata": {},
     "output_type": "execute_result"
    }
   ],
   "source": [
    "metin = \"Python programlama dili\"\n",
    "metin.replace(\"programlama\" , \"kodlama\")"
   ]
  },
  {
   "cell_type": "code",
   "execution_count": null,
   "id": "03c3a754-3885-4ce9-9ac6-c2f61963b58d",
   "metadata": {},
   "outputs": [],
   "source": []
  }
 ],
 "metadata": {
  "kernelspec": {
   "display_name": "Python 3 (ipykernel)",
   "language": "python",
   "name": "python3"
  },
  "language_info": {
   "codemirror_mode": {
    "name": "ipython",
    "version": 3
   },
   "file_extension": ".py",
   "mimetype": "text/x-python",
   "name": "python",
   "nbconvert_exporter": "python",
   "pygments_lexer": "ipython3",
   "version": "3.12.7"
  }
 },
 "nbformat": 4,
 "nbformat_minor": 5
}
