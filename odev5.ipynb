{
 "cells": [
  {
   "cell_type": "code",
   "execution_count": 7,
   "id": "3ad1ab44-9cfb-420c-b2f5-e88dfcfcabaa",
   "metadata": {},
   "outputs": [
    {
     "name": "stdin",
     "output_type": "stream",
     "text": [
      "Bir meyve adı giriniz.  elma\n"
     ]
    },
    {
     "name": "stdout",
     "output_type": "stream",
     "text": [
      "elma\n"
     ]
    }
   ],
   "source": [
    "meyveler = [\"elma\",\"armut\",\"çilek\",\"kiraz\"]\n",
    "x = str(input(\"Bir meyve adı giriniz. \"))\n",
    "if x in meyveler:\n",
    "    print(x)\n",
    "else:\n",
    "    print(\"geçersiz değer! \")\n",
    "    \n"
   ]
  },
  {
   "cell_type": "code",
   "execution_count": 10,
   "id": "75325927-2f60-4f07-ab4d-b123dfc4762f",
   "metadata": {},
   "outputs": [
    {
     "name": "stdin",
     "output_type": "stream",
     "text": [
      "Bir karakter giriniz.  y\n"
     ]
    },
    {
     "name": "stdout",
     "output_type": "stream",
     "text": [
      "parolada bu karakter var\n"
     ]
    }
   ],
   "source": [
    "parola = \"PyThOn123\" \n",
    "karakter = str(input(\"Bir karakter giriniz. \"))\n",
    "i = karakter\n",
    "if i not in parola:\n",
    "    print(\"Parolada bu karakter yok\")\n",
    "else: \n",
    "    print(\"parolada bu karakter var\")\n",
    "    "
   ]
  },
  {
   "cell_type": "code",
   "execution_count": null,
   "id": "bb012b4a-6bcc-4440-bb8d-aaca54b00a49",
   "metadata": {},
   "outputs": [],
   "source": []
  }
 ],
 "metadata": {
  "kernelspec": {
   "display_name": "Python 3 (ipykernel)",
   "language": "python",
   "name": "python3"
  },
  "language_info": {
   "codemirror_mode": {
    "name": "ipython",
    "version": 3
   },
   "file_extension": ".py",
   "mimetype": "text/x-python",
   "name": "python",
   "nbconvert_exporter": "python",
   "pygments_lexer": "ipython3",
   "version": "3.12.7"
  }
 },
 "nbformat": 4,
 "nbformat_minor": 5
}
