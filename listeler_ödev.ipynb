{
 "cells": [
  {
   "cell_type": "code",
   "execution_count": 16,
   "id": "08b5464f-c248-4930-94fd-6f8dba4a4e56",
   "metadata": {},
   "outputs": [
    {
     "name": "stdout",
     "output_type": "stream",
     "text": [
      "['elma', 'muz', 'çilek', 'kiraz', 'portakal']\n",
      "['elma', 'muz', 'armut', 'kiraz', 'portakal']\n",
      "['elma', 'armut', 'kiraz', 'portakal']\n",
      "4\n"
     ]
    }
   ],
   "source": [
    "#liste işlemleri\n",
    "meyveler = ['elma', 'muz', 'çilek', 'kiraz']\n",
    "meyveler.append('portakal')\n",
    "print(meyveler)\n",
    "\n",
    "meyveler[2] = 'armut'\n",
    "print(meyveler)\n",
    "\n",
    "meyveler.remove('muz')\n",
    "print(meyveler)\n",
    "\n",
    "uzunluk = len(meyveler)\n",
    "print(uzunluk)"
   ]
  },
  {
   "cell_type": "code",
   "execution_count": 134,
   "id": "6e99169b-9dfe-4363-87d3-e62f9619e75d",
   "metadata": {},
   "outputs": [
    {
     "name": "stdout",
     "output_type": "stream",
     "text": [
      "Listedeki en büyük sayı:  31\n",
      "Listedeki en küçük sayı:  5\n"
     ]
    }
   ],
   "source": [
    "#listedeki max min değerlerini bulma\n",
    "sayilar = [15,8,22,31,5,10]\n",
    "en_buyuk = max(sayilar)\n",
    "print('Listedeki en büyük sayı: ', en_buyuk)\n",
    "\n",
    "en_kucuk = min(sayilar)\n",
    "print('Listedeki en küçük sayı: ', en_kucuk)\n"
   ]
  },
  {
   "cell_type": "code",
   "execution_count": 136,
   "id": "c39fbb58-faf9-4f6d-8fb4-0027b9a246e3",
   "metadata": {},
   "outputs": [
    {
     "name": "stdout",
     "output_type": "stream",
     "text": [
      "[10, 20, 30, 40, 50]\n",
      "[80, 90, 100]\n",
      "[50, 60, 70]\n"
     ]
    }
   ],
   "source": [
    "#3\n",
    "sayilar2 = [10, 20, 30, 40, 50, 60, 70, 80, 90, 100]\n",
    "new_list = sayilar2[:5]   # [start:stop:step]\n",
    "print(new_list)\n",
    "\n",
    "new_list1 = sayilar2[7:10]\n",
    "print(new_list1)\n",
    "\n",
    "new_list2 = sayilar2[4:7]\n",
    "print(new_list2)\n",
    "\n"
   ]
  },
  {
   "cell_type": "code",
   "execution_count": 60,
   "id": "1de0436b-8d0c-4d32-a94d-5b12369a5e8c",
   "metadata": {},
   "outputs": [
    {
     "name": "stdout",
     "output_type": "stream",
     "text": [
      "0 = Matematik\n",
      "1 = Fizik\n",
      "2 = Kimya\n",
      "3 = Biyoloji\n"
     ]
    }
   ],
   "source": [
    "#4\n",
    "dersler = ['Matematik', 'Fizik', 'Kimya', 'Biyoloji']\n",
    "for index, value in enumerate(dersler):\n",
    "    print(f'{index} = {value}')"
   ]
  },
  {
   "cell_type": "code",
   "execution_count": 70,
   "id": "5dc3f26e-ca20-4736-b4ce-4b4c4f6eac4f",
   "metadata": {},
   "outputs": [
    {
     "name": "stdout",
     "output_type": "stream",
     "text": [
      "iki kümenin birleşimi: {70, 40, 10, 50, 20, 60, 30}\n",
      "iki kümenin kesişimi: {40, 50, 30}\n",
      "iki kümenin farkı: {10, 20}\n",
      "iki kümenin farkı: {60, 70}\n"
     ]
    }
   ],
   "source": [
    "#5\n",
    "A = {10,20,30,40,50}\n",
    "B = {30,40,50,60,70}\n",
    "print(f'iki kümenin birleşimi: {A.union(B)}')\n",
    "print(f'iki kümenin kesişimi: {A.intersection(B)}')\n",
    "print(f'iki kümenin farkı: {A.difference(B)}')\n",
    "print(f'iki kümenin farkı: {B.difference(A)}')"
   ]
  },
  {
   "cell_type": "code",
   "execution_count": 104,
   "id": "4c5aa420-bd2a-4cd4-a1ef-28b0e2b4e4a9",
   "metadata": {},
   "outputs": [
    {
     "name": "stdout",
     "output_type": "stream",
     "text": [
      "(5, 10, 15)\n",
      "(30, 35)\n",
      "7\n",
      "True\n"
     ]
    }
   ],
   "source": [
    "#6\n",
    "veriler = (5,10,15,20,25,30,35)\n",
    "tuple1 = veriler[0:3]\n",
    "print(tuple1)\n",
    "tuple2 = veriler[5:8]\n",
    "print(tuple2)\n",
    "tuple3 = len(veriler)\n",
    "print(tuple3)\n",
    "# sorgulama x in tupleadı true ya da false döner\n",
    "print(20 in veriler)\n"
   ]
  },
  {
   "cell_type": "code",
   "execution_count": 114,
   "id": "172077eb-bd90-41ec-9710-708d2971dad4",
   "metadata": {},
   "outputs": [
    {
     "name": "stdout",
     "output_type": "stream",
     "text": [
      "{'isim': 'Ahmet', 'yas': 21, 'bolum': 'Bilgisayar Mühendisliği'}\n",
      "{'isim': 'Ahmet', 'yas': 21, 'bolum': 'Bilgisayar Mühendisliği', 'okul': 'İTÜ'}\n",
      "Ahmet\n"
     ]
    }
   ],
   "source": [
    "#7\n",
    "ogrenci = {\"isim\": \"Ahmet\", \"yas\": 20, \"bolum\": \"Bilgisayar Mühendisliği\"}\n",
    "ogrenci.update({'yas': 21})\n",
    "print(ogrenci)\n",
    "ogrenci.update({'okul': 'İTÜ'})\n",
    "print(ogrenci)\n",
    "print(ogrenci.get('isim')) "
   ]
  },
  {
   "cell_type": "code",
   "execution_count": 122,
   "id": "5f4d2270-b1b3-41eb-a37e-08409f5534ad",
   "metadata": {},
   "outputs": [
    {
     "name": "stdout",
     "output_type": "stream",
     "text": [
      "Ali : 85\n",
      "Zeynep : 90\n",
      "Mehmet : 78\n",
      "Elif : 95\n"
     ]
    }
   ],
   "source": [
    "#8\n",
    "ders_notlari = {'Ali':85,'Zeynep':90,'Mehmet':78,'Elif':95}\n",
    "ders_adi = ders_notlari.keys()\n",
    "ders_notu = ders_notlari.values()\n",
    "\n",
    "for ders_adi, ders_notu in ders_notlari.items():\n",
    "    print(f'{ders_adi} : {ders_notu}')"
   ]
  },
  {
   "cell_type": "code",
   "execution_count": 130,
   "id": "7dde1b47-5665-4cf1-b3c2-7e3c3297472e",
   "metadata": {},
   "outputs": [
    {
     "name": "stdout",
     "output_type": "stream",
     "text": [
      "['İstanbul', 'İzmir']\n"
     ]
    }
   ],
   "source": [
    "#9\n",
    "sehirler = [\"Ankara\", \"İstanbul\", \"İzmir\", \"Bursa\", \"Antalya\", \"Adana\", \"Trabzon\"]\n",
    "liste1 = []\n",
    "for sehir in sehirler:\n",
    "    if 'İ' in sehir:\n",
    "        liste1.append(sehir)\n",
    "print(liste1)        \n",
    "        \n"
   ]
  },
  {
   "cell_type": "code",
   "execution_count": 132,
   "id": "959f7f53-c321-4d38-96a5-5486726d9d7d",
   "metadata": {},
   "outputs": [
    {
     "name": "stdout",
     "output_type": "stream",
     "text": [
      "[5, 10, 15, 20, 25, 30, 35, 40, 45, 50]\n"
     ]
    }
   ],
   "source": [
    "#10\n",
    "x = []\n",
    "for i in range(1,51):\n",
    "    if i%5 == 0:\n",
    "        x.append(i)\n",
    "print(x)        \n",
    "        "
   ]
  },
  {
   "cell_type": "code",
   "execution_count": null,
   "id": "5c02d709-edcc-4cfc-ad8a-d31a3fe7a49c",
   "metadata": {},
   "outputs": [],
   "source": []
  }
 ],
 "metadata": {
  "kernelspec": {
   "display_name": "Python [conda env:base] *",
   "language": "python",
   "name": "conda-base-py"
  },
  "language_info": {
   "codemirror_mode": {
    "name": "ipython",
    "version": 3
   },
   "file_extension": ".py",
   "mimetype": "text/x-python",
   "name": "python",
   "nbconvert_exporter": "python",
   "pygments_lexer": "ipython3",
   "version": "3.12.7"
  }
 },
 "nbformat": 4,
 "nbformat_minor": 5
}
