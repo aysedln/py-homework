{
 "cells": [
  {
   "cell_type": "code",
   "execution_count": null,
   "id": "ba22a1c1-b867-4798-a85c-b0c344c44860",
   "metadata": {},
   "outputs": [],
   "source": []
  },
  {
   "cell_type": "code",
   "execution_count": 40,
   "id": "9cbbc28e-3e92-4d99-85bd-2c12c4106706",
   "metadata": {},
   "outputs": [
    {
     "name": "stdin",
     "output_type": "stream",
     "text": [
      "Adınız:  Ayşe\n",
      "Yaşınız:  19\n",
      "Boyunuz:  169\n",
      "Öğrenci misiniz? (Evet/Hayır):  Evet\n"
     ]
    },
    {
     "name": "stdout",
     "output_type": "stream",
     "text": [
      "True\n"
     ]
    },
    {
     "name": "stdin",
     "output_type": "stream",
     "text": [
      "Doğum yılınızı yazınız:  2006\n"
     ]
    },
    {
     "name": "stdout",
     "output_type": "stream",
     "text": [
      "Yaşınız: 19\n"
     ]
    }
   ],
   "source": [
    "# GÖREV 1\n",
    "\n",
    "isim = input(str(\"Adınız: \"))\n",
    "yas = int(input(\"Yaşınız: \"))\n",
    "boy = float(input(\"Boyunuz: \"))\n",
    "cevap = input(\"Öğrenci misiniz? (Evet/Hayır): \" )\n",
    "ogrenci_mi = (cevap == \"Evet\") # cevap evet ise true değilse false\n",
    "print(ogrenci_mi)\n",
    "\n",
    "\n",
    "#GÖREV 2\n",
    "dogum_yili = int(input(\"Doğum yılınızı yazınız: \"))\n",
    "yas = 2025 - dogum_yili\n",
    "print(\"Yaşınız: \" + str(yas))\n",
    "\n",
    "\n",
    "\n",
    "\n"
   ]
  },
  {
   "cell_type": "code",
   "execution_count": null,
   "id": "36c7f4b8-4c35-47ce-a403-d2aa079a8b2a",
   "metadata": {},
   "outputs": [],
   "source": []
  }
 ],
 "metadata": {
  "kernelspec": {
   "display_name": "Python 3 (ipykernel)",
   "language": "python",
   "name": "python3"
  },
  "language_info": {
   "codemirror_mode": {
    "name": "ipython",
    "version": 3
   },
   "file_extension": ".py",
   "mimetype": "text/x-python",
   "name": "python",
   "nbconvert_exporter": "python",
   "pygments_lexer": "ipython3",
   "version": "3.12.7"
  }
 },
 "nbformat": 4,
 "nbformat_minor": 5
}
