{
 "cells": [
  {
   "cell_type": "code",
   "execution_count": 9,
   "id": "1fd7d59d-8ded-40ce-a034-5745f44e21af",
   "metadata": {},
   "outputs": [
    {
     "name": "stdout",
     "output_type": "stream",
     "text": [
      "6.0\n"
     ]
    }
   ],
   "source": [
    "#Görev1\n",
    "x = 10\n",
    "x += 5\n",
    "x -= 3\n",
    "x *= 2\n",
    "x /= 4\n",
    "print(x)\n"
   ]
  },
  {
   "cell_type": "code",
   "execution_count": 11,
   "id": "f7e9210b-8ffc-4348-ac9a-26f6c69f1b65",
   "metadata": {},
   "outputs": [
    {
     "name": "stdout",
     "output_type": "stream",
     "text": [
      "Python Programlama\n"
     ]
    }
   ],
   "source": [
    "#Görev2\n",
    "metin = \"Python\"\n",
    "metin += \" Programlama\"\n",
    "print(metin)\n",
    "\n"
   ]
  },
  {
   "cell_type": "code",
   "execution_count": null,
   "id": "fda0b2d3-3aa3-4b09-9fc0-60ee057731ac",
   "metadata": {},
   "outputs": [],
   "source": []
  }
 ],
 "metadata": {
  "kernelspec": {
   "display_name": "Python 3 (ipykernel)",
   "language": "python",
   "name": "python3"
  },
  "language_info": {
   "codemirror_mode": {
    "name": "ipython",
    "version": 3
   },
   "file_extension": ".py",
   "mimetype": "text/x-python",
   "name": "python",
   "nbconvert_exporter": "python",
   "pygments_lexer": "ipython3",
   "version": "3.12.7"
  }
 },
 "nbformat": 4,
 "nbformat_minor": 5
}
