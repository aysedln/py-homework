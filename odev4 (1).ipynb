{
 "cells": [
  {
   "cell_type": "code",
   "execution_count": 17,
   "id": "b613f1ab-0ac0-48ab-a458-6ecbbcfdb893",
   "metadata": {},
   "outputs": [
    {
     "name": "stdin",
     "output_type": "stream",
     "text": [
      "Yaşınızı giriniz:  9\n"
     ]
    },
    {
     "name": "stdout",
     "output_type": "stream",
     "text": [
      "Koşul sağlanmıyor.\n"
     ]
    }
   ],
   "source": [
    "yas = int(input(\"Yaşınızı giriniz: \"))\n",
    "if yas > 18 and yas < 65:\n",
    "  print(\"Koşul sağlanıyor.\")\n",
    "else:\n",
    "    print(\"Koşul sağlanmıyor.\")"
   ]
  },
  {
   "cell_type": "code",
   "execution_count": 16,
   "id": "dffeaefb-97ef-4982-a358-83ecead2fb0c",
   "metadata": {},
   "outputs": [
    {
     "name": "stdin",
     "output_type": "stream",
     "text": [
      "Yaşınızı giriniz:  45\n"
     ]
    },
    {
     "name": "stdout",
     "output_type": "stream",
     "text": [
      "Koşul sağlanmıyor.\n"
     ]
    }
   ],
   "source": [
    "yas = int(input(\"Yaşınızı giriniz: \"))\n",
    "if yas < 18 or yas > 65:\n",
    "    print(\"Koşul sağlanıyor.\")\n",
    "else:\n",
    "    print(\"Koşul sağlanmıyor.\")\n",
    "    "
   ]
  },
  {
   "cell_type": "code",
   "execution_count": 13,
   "id": "1d5e955f-5729-4117-a13b-c0232af315a9",
   "metadata": {},
   "outputs": [
    {
     "name": "stdin",
     "output_type": "stream",
     "text": [
      "Yaşınızı giriniz:  78\n"
     ]
    },
    {
     "name": "stdout",
     "output_type": "stream",
     "text": [
      "yaş 25'e eşit değil.\n"
     ]
    }
   ],
   "source": [
    "yas = int(input(\"Yaşınızı giriniz: \"))\n",
    "if not(yas == 25):\n",
    "    print(\"yaş 25'e eşit değil.\")\n",
    "    "
   ]
  },
  {
   "cell_type": "code",
   "execution_count": null,
   "id": "8bbad36d-f44c-4f35-b4e0-dc9b7c3fb64a",
   "metadata": {},
   "outputs": [],
   "source": [
    "    "
   ]
  },
  {
   "cell_type": "code",
   "execution_count": 20,
   "id": "7a06417f-025e-48bf-b237-34308c6720b8",
   "metadata": {},
   "outputs": [
    {
     "name": "stdin",
     "output_type": "stream",
     "text": [
      "Yaşınızı giriniz:  9\n"
     ]
    },
    {
     "name": "stdout",
     "output_type": "stream",
     "text": [
      "Koşul sağlanıyor.\n",
      "yaş 25'e eşit değil.\n"
     ]
    }
   ],
   "source": [
    "yas = int(input(\"Yaşınızı giriniz: \"))\n",
    "if yas > 18 and yas < 65:\n",
    "  print(\"Koşul sağlanıyor.\")\n",
    "\n",
    "else:\n",
    "    yas < 18 or yas > 65\n",
    "    print(\"Koşul sağlanıyor.\")\n",
    "    \n",
    "if not(yas == 25):\n",
    "    print(\"yaş 25'e eşit değil.\")\n",
    "    "
   ]
  },
  {
   "cell_type": "code",
   "execution_count": 23,
   "id": "c14a310c-cbc9-4807-a45f-76fe5b73b66e",
   "metadata": {},
   "outputs": [
    {
     "name": "stdin",
     "output_type": "stream",
     "text": [
      "Sayı giriniz:  4\n"
     ]
    },
    {
     "name": "stdout",
     "output_type": "stream",
     "text": [
      "True\n"
     ]
    }
   ],
   "source": [
    "#Görev 2 \n",
    "x = int(input(\"Sayı giriniz: \"))\n",
    "if x % 2 == 0 and x > 0:\n",
    "    print(True)\n",
    "else:\n",
    "    print(False)\n",
    "    \n",
    "    "
   ]
  },
  {
   "cell_type": "markdown",
   "id": "e4b784a2-da32-4858-b108-7724e95dd4e3",
   "metadata": {},
   "source": []
  },
  {
   "cell_type": "code",
   "execution_count": 39,
   "id": "c426d95a-1899-48c7-a387-eeb199c52431",
   "metadata": {},
   "outputs": [
    {
     "name": "stdin",
     "output_type": "stream",
     "text": [
      "Yaşınızı giriniz:  13\n",
      "Ehliyetiniz varmı? (Evet/Hayır):  Evet\n"
     ]
    },
    {
     "name": "stdout",
     "output_type": "stream",
     "text": [
      "Araba kullanamazsınız.\n"
     ]
    }
   ],
   "source": [
    "yas = int(input(\"Yaşınızı giriniz: \"))\n",
    "ehliyet = input(\"Ehliyetiniz varmı? (Evet/Hayır): \") \n",
    "if ehliyet == \"Evet\":\n",
    "    ehliyet = True\n",
    "elif ehliyet == \"Hayır\":\n",
    "    ehliyet = False\n",
    "\n",
    "if yas > 18 and ehliyet == True :\n",
    "    print(\"Araba kullanabilirsiniz.\")\n",
    "else:\n",
    "    print(\"Araba kullanamazsınız.\")"
   ]
  },
  {
   "cell_type": "code",
   "execution_count": null,
   "id": "c58d30f8-2fc3-4bc9-8bc3-55a1d5a862ff",
   "metadata": {},
   "outputs": [],
   "source": []
  }
 ],
 "metadata": {
  "kernelspec": {
   "display_name": "Python 3 (ipykernel)",
   "language": "python",
   "name": "python3"
  },
  "language_info": {
   "codemirror_mode": {
    "name": "ipython",
    "version": 3
   },
   "file_extension": ".py",
   "mimetype": "text/x-python",
   "name": "python",
   "nbconvert_exporter": "python",
   "pygments_lexer": "ipython3",
   "version": "3.12.7"
  }
 },
 "nbformat": 4,
 "nbformat_minor": 5
}
